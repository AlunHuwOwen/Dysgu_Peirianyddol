{
 "cells": [
  {
   "cell_type": "code",
   "execution_count": 2,
   "metadata": {
    "collapsed": true
   },
   "outputs": [],
   "source": [
    "import pandas as pd"
   ]
  },
  {
   "cell_type": "code",
   "execution_count": 3,
   "metadata": {},
   "outputs": [
    {
     "data": {
      "text/html": [
       "<div>\n",
       "<style>\n",
       "    .dataframe thead tr:only-child th {\n",
       "        text-align: right;\n",
       "    }\n",
       "\n",
       "    .dataframe thead th {\n",
       "        text-align: left;\n",
       "    }\n",
       "\n",
       "    .dataframe tbody tr th {\n",
       "        vertical-align: top;\n",
       "    }\n",
       "</style>\n",
       "<table border=\"1\" class=\"dataframe\">\n",
       "  <thead>\n",
       "    <tr style=\"text-align: right;\">\n",
       "      <th></th>\n",
       "      <th>Gwlad</th>\n",
       "      <th>Rhyw</th>\n",
       "      <th>Hapus.gyda.r.plaid.yn.pwer</th>\n",
       "      <th>Math.o.dy</th>\n",
       "      <th>Perchen.ar.fwy.nag.un.ty</th>\n",
       "      <th>Plaid.Wleidyddol</th>\n",
       "    </tr>\n",
       "  </thead>\n",
       "  <tbody>\n",
       "    <tr>\n",
       "      <th>0</th>\n",
       "      <td>Lloegr</td>\n",
       "      <td>Benyw</td>\n",
       "      <td>Na</td>\n",
       "      <td>Datgysylltiedig</td>\n",
       "      <td>Na</td>\n",
       "      <td>Democrataidd Rhyddfrydol</td>\n",
       "    </tr>\n",
       "    <tr>\n",
       "      <th>1</th>\n",
       "      <td>Cymru</td>\n",
       "      <td>Benyw</td>\n",
       "      <td>Na</td>\n",
       "      <td>Ty Rhes</td>\n",
       "      <td>Yndw</td>\n",
       "      <td>Plaid Geidwadol</td>\n",
       "    </tr>\n",
       "    <tr>\n",
       "      <th>2</th>\n",
       "      <td>Lloegr</td>\n",
       "      <td>Benyw</td>\n",
       "      <td>Na</td>\n",
       "      <td>Byngalo</td>\n",
       "      <td>Na</td>\n",
       "      <td>Plaid Geidwadol</td>\n",
       "    </tr>\n",
       "    <tr>\n",
       "      <th>3</th>\n",
       "      <td>Alban</td>\n",
       "      <td>Benyw</td>\n",
       "      <td>Na</td>\n",
       "      <td>Ty Rhes</td>\n",
       "      <td>Na</td>\n",
       "      <td>Plaid Lafur</td>\n",
       "    </tr>\n",
       "    <tr>\n",
       "      <th>4</th>\n",
       "      <td>Alban</td>\n",
       "      <td>Gwryw</td>\n",
       "      <td>Na</td>\n",
       "      <td>Ty Par</td>\n",
       "      <td>Na</td>\n",
       "      <td>Plaid Geidwadol</td>\n",
       "    </tr>\n",
       "  </tbody>\n",
       "</table>\n",
       "</div>"
      ],
      "text/plain": [
       "    Gwlad   Rhyw Hapus.gyda.r.plaid.yn.pwer        Math.o.dy  \\\n",
       "0  Lloegr  Benyw                         Na  Datgysylltiedig   \n",
       "1   Cymru  Benyw                         Na          Ty Rhes   \n",
       "2  Lloegr  Benyw                         Na          Byngalo   \n",
       "3   Alban  Benyw                         Na          Ty Rhes   \n",
       "4   Alban  Gwryw                         Na           Ty Par   \n",
       "\n",
       "  Perchen.ar.fwy.nag.un.ty          Plaid.Wleidyddol  \n",
       "0                       Na  Democrataidd Rhyddfrydol  \n",
       "1                     Yndw           Plaid Geidwadol  \n",
       "2                       Na           Plaid Geidwadol  \n",
       "3                       Na               Plaid Lafur  \n",
       "4                       Na           Plaid Geidwadol  "
      ]
     },
     "execution_count": 3,
     "metadata": {},
     "output_type": "execute_result"
    }
   ],
   "source": [
    "data = pd.read_csv('etholiad.csv')\n",
    "plyg = [\"Lloegr\", \"Benyw\", \"Na\", \"Ty Rhes\", \"Na\"]\n",
    "data.head()"
   ]
  },
  {
   "cell_type": "code",
   "execution_count": 4,
   "metadata": {
    "collapsed": true
   },
   "outputs": [],
   "source": [
    "def tebygolrwydd_amodol(plaid, colofn, gwerth, data):\n",
    "    rhifiadur = len(data[(data[\"Plaid.Wleidyddol\"]==plaid)&(data[colofn]==gwerth)]) + 1\n",
    "    enwadur = len(data[data[\"Plaid.Wleidyddol\"]==plaid])+len(data[colofn].unique())\n",
    "    return rhifiadur/enwadur\n",
    "    "
   ]
  },
  {
   "cell_type": "code",
   "execution_count": 5,
   "metadata": {
    "collapsed": true
   },
   "outputs": [],
   "source": [
    "def tebygolrwydd(plaid, data):\n",
    "    return len(data[data[\"Plaid.Wleidyddol\"]==plaid]) / len(data)"
   ]
  },
  {
   "cell_type": "code",
   "execution_count": 6,
   "metadata": {
    "collapsed": true
   },
   "outputs": [],
   "source": [
    "def rhagfynegi(data, plyg):\n",
    "    colofnau = data.columns[:-1]\n",
    "    pleidiau = data['Plaid.Wleidyddol'].unique()\n",
    "    tebygolrwyddau = {p: 1 for p in pleidiau}\n",
    "    for plaid in pleidiau:\n",
    "        for i, colofn in enumerate(colofnau):\n",
    "            gwerth = plyg[i]\n",
    "            tebygolrwyddau[plaid] *= tebygolrwydd_amodol(plaid, colofn, gwerth, data)\n",
    "        tebygolrwyddau[plaid] *= tebygolrwydd(plaid, data)\n",
    "    return max(tebygolrwyddau.keys(), key=lambda x: tebygolrwyddau[x])"
   ]
  },
  {
   "cell_type": "code",
   "execution_count": 7,
   "metadata": {},
   "outputs": [
    {
     "data": {
      "text/plain": [
       "'Plaid Lafur'"
      ]
     },
     "execution_count": 7,
     "metadata": {},
     "output_type": "execute_result"
    }
   ],
   "source": [
    "rhagfynegi(data, plyg)"
   ]
  },
  {
   "cell_type": "code",
   "execution_count": 8,
   "metadata": {
    "collapsed": true
   },
   "outputs": [],
   "source": [
    "plyg = [\"Lloegr\", \"Gwryw\", \"Yndw\", \"Ty Rhes\", \"Yndw\"]"
   ]
  },
  {
   "cell_type": "code",
   "execution_count": 9,
   "metadata": {},
   "outputs": [
    {
     "data": {
      "text/plain": [
       "'Plaid Geidwadol'"
      ]
     },
     "execution_count": 9,
     "metadata": {},
     "output_type": "execute_result"
    }
   ],
   "source": [
    "rhagfynegi(data, plyg)"
   ]
  },
  {
   "cell_type": "code",
   "execution_count": null,
   "metadata": {
    "collapsed": true
   },
   "outputs": [],
   "source": []
  }
 ],
 "metadata": {
  "kernelspec": {
   "display_name": "Python 3",
   "language": "python",
   "name": "python3"
  },
  "language_info": {
   "codemirror_mode": {
    "name": "ipython",
    "version": 3
   },
   "file_extension": ".py",
   "mimetype": "text/x-python",
   "name": "python",
   "nbconvert_exporter": "python",
   "pygments_lexer": "ipython3",
   "version": "3.6.2"
  }
 },
 "nbformat": 4,
 "nbformat_minor": 2
}
